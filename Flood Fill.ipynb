{
 "cells": [
  {
   "cell_type": "code",
   "execution_count": 55,
   "id": "f0cb737e",
   "metadata": {},
   "outputs": [],
   "source": [
    "import torch\n",
    "import torchvision\n",
    "import kornia\n",
    "import cv2\n",
    "import pandas\n",
    "import numpy as np\n",
    "import matplotlib.pyplot as plt\n",
    "from PIL import Image, ImageDraw"
   ]
  },
  {
   "cell_type": "code",
   "execution_count": 76,
   "id": "5dd035a0",
   "metadata": {},
   "outputs": [],
   "source": [
    "img=Image.open(\"flood1.png\")\n",
    "img =img.convert(\"RGB\")\n",
    "img.show()"
   ]
  },
  {
   "cell_type": "code",
   "execution_count": 77,
   "id": "7f9fbe07",
   "metadata": {},
   "outputs": [],
   "source": [
    "start_pixel=(200,195)\n",
    "replacement_color=(242, 103, 51)\n",
    "ImageDraw.floodfill(img,start_pixel,replacement_color, thresh=0.2)\n",
    "img.show()"
   ]
  },
  {
   "cell_type": "code",
   "execution_count": 78,
   "id": "a1ec2d78",
   "metadata": {},
   "outputs": [],
   "source": [
    "start_pixel=(50,350)\n",
    "replacement_color=(255,255,0)\n",
    "ImageDraw.floodfill(img,start_pixel,replacement_color, thresh=0.5)\n",
    "img.show()"
   ]
  },
  {
   "cell_type": "code",
   "execution_count": 79,
   "id": "39b92899",
   "metadata": {},
   "outputs": [
    {
     "data": {
      "text/plain": [
       "array([[2, 1, 2, 2],\n",
       "       [1, 1, 2, 3],\n",
       "       [1, 2, 2, 2],\n",
       "       [2, 3, 3, 2]], dtype=uint8)"
      ]
     },
     "execution_count": 79,
     "metadata": {},
     "output_type": "execute_result"
    }
   ],
   "source": [
    "arr= np.array([[2,1,2,2],[1,1,2,3],[1,2,2,2],[2,3,3,2]])\n",
    "arr=arr.astype('uint8')\n",
    "arr"
   ]
  },
  {
   "cell_type": "code",
   "execution_count": null,
   "id": "125884ad",
   "metadata": {},
   "outputs": [],
   "source": []
  },
  {
   "cell_type": "code",
   "execution_count": null,
   "id": "c0ff655e",
   "metadata": {},
   "outputs": [],
   "source": []
  }
 ],
 "metadata": {
  "kernelspec": {
   "display_name": "Python 3 (ipykernel)",
   "language": "python",
   "name": "python3"
  },
  "language_info": {
   "codemirror_mode": {
    "name": "ipython",
    "version": 3
   },
   "file_extension": ".py",
   "mimetype": "text/x-python",
   "name": "python",
   "nbconvert_exporter": "python",
   "pygments_lexer": "ipython3",
   "version": "3.9.13"
  }
 },
 "nbformat": 4,
 "nbformat_minor": 5
}
